{
 "cells": [
  {
   "cell_type": "code",
   "execution_count": 1,
   "metadata": {},
   "outputs": [],
   "source": [
    "import pandas as pd\n",
    "import numpy as np\n",
    "import csv"
   ]
  },
  {
   "cell_type": "code",
   "execution_count": 2,
   "metadata": {},
   "outputs": [],
   "source": [
    "books_df = pd.read_csv('books.csv',usecols=['bookId','title'],dtype={'bookId': 'int32', 'title': 'str'})\n",
    "rating_df=pd.read_csv('ratings.csv',usecols=['userId', 'bookId', 'rating'],\n",
    "    dtype={'userId': 'int32', 'bookId': 'int32', 'rating': 'float32'})"
   ]
  },
  {
   "cell_type": "code",
   "execution_count": 3,
   "metadata": {},
   "outputs": [
    {
     "name": "stdout",
     "output_type": "stream",
     "text": [
      "   bookId                               title\n",
      "0       1                    Toy Story (1995)\n",
      "1       2                      Jumanji (1995)\n",
      "2       3             Grumpier Old Men (1995)\n",
      "3       4            Waiting to Exhale (1995)\n",
      "4       5  Father of the Bride Part II (1995)\n"
     ]
    }
   ],
   "source": [
    "print(books_df.head())"
   ]
  },
  {
   "cell_type": "code",
   "execution_count": 4,
   "metadata": {},
   "outputs": [
    {
     "name": "stdout",
     "output_type": "stream",
     "text": [
      "   userId  bookId  rating\n",
      "0       1       1     4.0\n",
      "1       1       3     4.0\n",
      "2       1       6     4.0\n",
      "3       1      47     5.0\n",
      "4       1      50     5.0\n"
     ]
    }
   ],
   "source": [
    "print(rating_df.head())"
   ]
  },
  {
   "cell_type": "code",
   "execution_count": 5,
   "metadata": {},
   "outputs": [
    {
     "name": "stdout",
     "output_type": "stream",
     "text": [
      "   userId  bookId  rating             title\n",
      "0       1       1     4.0  Toy Story (1995)\n",
      "1       1       1     4.0              ravi\n",
      "2       5       1     4.0  Toy Story (1995)\n",
      "3       5       1     4.0              ravi\n",
      "4       7       1     4.5  Toy Story (1995)\n"
     ]
    }
   ],
   "source": [
    "df = pd.merge(rating_df,books_df,on='bookId')\n",
    "print(df.head())"
   ]
  },
  {
   "cell_type": "code",
   "execution_count": 6,
   "metadata": {},
   "outputs": [],
   "source": [
    "combine_book_rating = df.dropna(axis = 0, subset = ['title'])\n",
    "book_ratingCount = (combine_book_rating.\n",
    "     groupby(by = ['title'])['rating'].\n",
    "     count().\n",
    "     reset_index().\n",
    "     rename(columns = {'rating': 'totalRatingCount'})\n",
    "     [['title', 'totalRatingCount']]\n",
    "    )"
   ]
  },
  {
   "cell_type": "code",
   "execution_count": 7,
   "metadata": {},
   "outputs": [
    {
     "name": "stdout",
     "output_type": "stream",
     "text": [
      "                                     title  totalRatingCount\n",
      "0                               '71 (2014)                 1\n",
      "1  'Hellboy': The Seeds of Creation (2004)                 1\n",
      "2                   'Round Midnight (1986)                 2\n",
      "3                      'Salem's Lot (2004)                 1\n",
      "4                'Til There Was You (1997)                 2\n"
     ]
    }
   ],
   "source": [
    "print(book_ratingCount.head())"
   ]
  },
  {
   "cell_type": "code",
   "execution_count": 8,
   "metadata": {},
   "outputs": [
    {
     "name": "stdout",
     "output_type": "stream",
     "text": [
      "   userId  bookId  rating             title  totalRatingCount\n",
      "0       1       1     4.0  Toy Story (1995)               216\n",
      "1       1       1     4.0              ravi               216\n",
      "2       5       1     4.0  Toy Story (1995)               216\n",
      "3       5       1     4.0              ravi               216\n",
      "4       7       1     4.5  Toy Story (1995)               216\n"
     ]
    }
   ],
   "source": [
    "rating_with_totalRatingCount = combine_book_rating.merge(book_ratingCount, left_on = 'title', right_on = 'title', how = 'left')\n",
    "print(rating_with_totalRatingCount.head())"
   ]
  },
  {
   "cell_type": "code",
   "execution_count": 9,
   "metadata": {},
   "outputs": [
    {
     "name": "stdout",
     "output_type": "stream",
     "text": [
      "count   9722.000\n",
      "mean      10.407\n",
      "std       22.524\n",
      "min        1.000\n",
      "25%        1.000\n",
      "50%        3.000\n",
      "75%        9.000\n",
      "max      329.000\n",
      "Name: totalRatingCount, dtype: float64\n"
     ]
    }
   ],
   "source": [
    "pd.set_option('display.float_format', lambda x: '%.3f' % x)\n",
    "print(book_ratingCount['totalRatingCount'].describe())"
   ]
  },
  {
   "cell_type": "code",
   "execution_count": 10,
   "metadata": {},
   "outputs": [
    {
     "name": "stdout",
     "output_type": "stream",
     "text": [
      "   userId  bookId  rating             title  totalRatingCount\n",
      "0       1       1   4.000  Toy Story (1995)               216\n",
      "1       1       1   4.000              ravi               216\n",
      "2       5       1   4.000  Toy Story (1995)               216\n",
      "3       5       1   4.000              ravi               216\n",
      "4       7       1   4.500  Toy Story (1995)               216\n"
     ]
    }
   ],
   "source": [
    "popularity_threshold = 50\n",
    "rating_popular_book= rating_with_totalRatingCount.query('totalRatingCount >= @popularity_threshold')\n",
    "print(rating_popular_book.head())"
   ]
  },
  {
   "cell_type": "code",
   "execution_count": 11,
   "metadata": {},
   "outputs": [
    {
     "name": "stdout",
     "output_type": "stream",
     "text": [
      "(41691, 5)\n"
     ]
    }
   ],
   "source": [
    "print(rating_popular_book.shape)"
   ]
  },
  {
   "cell_type": "code",
   "execution_count": 12,
   "metadata": {},
   "outputs": [
    {
     "name": "stdout",
     "output_type": "stream",
     "text": [
      "userId                              1     2     3     4     5     6     7    \\\n",
      "title                                                                         \n",
      "10 Things I Hate About You (1999) 0.000 0.000 0.000 0.000 0.000 0.000 0.000   \n",
      "12 Angry Men (1957)               0.000 0.000 0.000 5.000 0.000 0.000 0.000   \n",
      "2001: A Space Odyssey (1968)      0.000 0.000 0.000 0.000 0.000 0.000 4.000   \n",
      "28 Days Later (2002)              0.000 0.000 0.000 0.000 0.000 0.000 0.000   \n",
      "300 (2007)                        0.000 0.000 0.000 0.000 0.000 0.000 0.000   \n",
      "\n",
      "userId                              8     9     10   ...   601   602   603  \\\n",
      "title                                                ...                     \n",
      "10 Things I Hate About You (1999) 0.000 0.000 0.000  ... 0.000 0.000 3.000   \n",
      "12 Angry Men (1957)               0.000 0.000 0.000  ... 5.000 0.000 0.000   \n",
      "2001: A Space Odyssey (1968)      0.000 0.000 0.000  ... 0.000 0.000 5.000   \n",
      "28 Days Later (2002)              0.000 0.000 0.000  ... 0.000 0.000 0.000   \n",
      "300 (2007)                        0.000 0.000 3.000  ... 0.000 0.000 0.000   \n",
      "\n",
      "userId                              604   605   606   607   608   609   610  \n",
      "title                                                                        \n",
      "10 Things I Hate About You (1999) 0.000 5.000 0.000 0.000 0.000 0.000 0.000  \n",
      "12 Angry Men (1957)               0.000 0.000 0.000 0.000 0.000 0.000 0.000  \n",
      "2001: A Space Odyssey (1968)      0.000 0.000 5.000 0.000 3.000 0.000 4.500  \n",
      "28 Days Later (2002)              0.000 0.000 0.000 0.000 3.500 0.000 5.000  \n",
      "300 (2007)                        0.000 3.000 0.000 0.000 5.000 0.000 4.000  \n",
      "\n",
      "[5 rows x 606 columns]\n"
     ]
    }
   ],
   "source": [
    "book_features_df=rating_popular_book.pivot_table(index='title',columns='userId',values='rating').fillna(0)\n",
    "print(book_features_df.head())"
   ]
  },
  {
   "cell_type": "code",
   "execution_count": 27,
   "metadata": {},
   "outputs": [],
   "source": [
    "from scipy.sparse import csr_matrix\n",
    "\n",
    "book_features_df_matrix = csr_matrix(book_features_df.values)\n",
    "\n",
    "from sklearn.neighbors import NearestNeighbors\n"
   ]
  },
  {
   "cell_type": "code",
   "execution_count": 15,
   "metadata": {},
   "outputs": [
    {
     "name": "stdout",
     "output_type": "stream",
     "text": [
      "(452, 606)\n"
     ]
    }
   ],
   "source": [
    "model_knn = NearestNeighbors(metric = 'cosine', algorithm = 'brute')\n",
    "model_knn.fit(book_features_df_matrix)\n",
    "\n",
    "print(book_features_df.shape)"
   ]
  },
  {
   "cell_type": "code",
   "execution_count": 24,
   "metadata": {},
   "outputs": [
    {
     "name": "stdout",
     "output_type": "stream",
     "text": [
      "278\n"
     ]
    }
   ],
   "source": [
    "query_index = np.random.choice(book_features_df.shape[0])\n",
    "print(query_index)"
   ]
  },
  {
   "cell_type": "code",
   "execution_count": 25,
   "metadata": {},
   "outputs": [
    {
     "name": "stdout",
     "output_type": "stream",
     "text": [
      "userId                              1     2     3     4     5     6     7    \\\n",
      "title                                                                         \n",
      "10 Things I Hate About You (1999) 0.000 0.000 0.000 0.000 0.000 0.000 0.000   \n",
      "12 Angry Men (1957)               0.000 0.000 0.000 5.000 0.000 0.000 0.000   \n",
      "2001: A Space Odyssey (1968)      0.000 0.000 0.000 0.000 0.000 0.000 4.000   \n",
      "28 Days Later (2002)              0.000 0.000 0.000 0.000 0.000 0.000 0.000   \n",
      "300 (2007)                        0.000 0.000 0.000 0.000 0.000 0.000 0.000   \n",
      "\n",
      "userId                              8     9     10   ...   601   602   603  \\\n",
      "title                                                ...                     \n",
      "10 Things I Hate About You (1999) 0.000 0.000 0.000  ... 0.000 0.000 3.000   \n",
      "12 Angry Men (1957)               0.000 0.000 0.000  ... 5.000 0.000 0.000   \n",
      "2001: A Space Odyssey (1968)      0.000 0.000 0.000  ... 0.000 0.000 5.000   \n",
      "28 Days Later (2002)              0.000 0.000 0.000  ... 0.000 0.000 0.000   \n",
      "300 (2007)                        0.000 0.000 3.000  ... 0.000 0.000 0.000   \n",
      "\n",
      "userId                              604   605   606   607   608   609   610  \n",
      "title                                                                        \n",
      "10 Things I Hate About You (1999) 0.000 5.000 0.000 0.000 0.000 0.000 0.000  \n",
      "12 Angry Men (1957)               0.000 0.000 0.000 0.000 0.000 0.000 0.000  \n",
      "2001: A Space Odyssey (1968)      0.000 0.000 5.000 0.000 3.000 0.000 4.500  \n",
      "28 Days Later (2002)              0.000 0.000 0.000 0.000 3.500 0.000 5.000  \n",
      "300 (2007)                        0.000 3.000 0.000 0.000 5.000 0.000 4.000  \n",
      "\n",
      "[5 rows x 606 columns]\n"
     ]
    }
   ],
   "source": [
    "distances, indices = model_knn.kneighbors(book_features_df.iloc[query_index,:].values.reshape(1, -1), n_neighbors = 6)\n",
    "\n",
    "print(book_features_df.head())"
   ]
  },
  {
   "cell_type": "code",
   "execution_count": 18,
   "metadata": {},
   "outputs": [
    {
     "name": "stdout",
     "output_type": "stream",
     "text": [
      "Recommendations for Ed Wood (1994):\n",
      "\n",
      "1: Get Shorty (1995), with distance of 0.510016918182373:\n",
      "2: Quiz Show (1994), with distance of 0.551247239112854:\n",
      "3: Four Weddings and a Funeral (1994), with distance of 0.558853268623352:\n",
      "4: Clerks (1994), with distance of 0.5813702344894409:\n",
      "5: Dave (1993), with distance of 0.5901564359664917:\n"
     ]
    }
   ],
   "source": [
    "for i in range(0, len(distances.flatten())):\n",
    "    if i == 0:\n",
    "        print('Recommendations for {0}:\\n'.format(book_features_df.index[query_index]))\n",
    "    else:\n",
    "        print('{0}: {1}, with distance of {2}:'.format(i, book_features_df.index[indices.flatten()[i]], distances.flatten()[i]))"
   ]
  },
  {
   "cell_type": "code",
   "execution_count": 19,
   "metadata": {},
   "outputs": [
    {
     "name": "stdout",
     "output_type": "stream",
     "text": [
      "If you want to give rating write yes otherwise no : \n",
      "yes\n"
     ]
    }
   ],
   "source": [
    "print(\"If you want to give rating write yes otherwise no : \")\n",
    "rat = input()"
   ]
  },
  {
   "cell_type": "code",
   "execution_count": 20,
   "metadata": {},
   "outputs": [
    {
     "name": "stdout",
     "output_type": "stream",
     "text": [
      "Enter the id of user : 120\n",
      "Enter the book name : harry potter\n",
      "Enter genres of that book : action\n",
      "Enter the book id : 3\n",
      "Rating : 5\n",
      "Enter timestamp : sdf\n",
      "Record stored in our database\n"
     ]
    }
   ],
   "source": [
    "if(rat == 'yes'):\n",
    "    with open('books.csv', 'a', newline='') as file:\n",
    "        writer = csv.writer(file)\n",
    "        user_id = input(\"Enter the id of user : \")\n",
    "        book_name = input(\"Enter the book name : \")\n",
    "        genres = input(\"Enter genres of that book : \")\n",
    "        writer.writerow([user_id, book_name, genres])\n",
    "    with open('ratings.csv', 'a', newline='') as file:\n",
    "        writer = csv.writer(file)\n",
    "        book_id = input(\"Enter the book id : \")\n",
    "        rating = input(\"Rating : \")\n",
    "        timestamp = input(\"Enter timestamp : \")\n",
    "        writer.writerow([book_id,user_id, rating, timestamp])\n",
    "    print(\"Record stored in our database\")\n",
    "\n",
    "else:\n",
    "    print(\"Thank You !\")"
   ]
  },
  {
   "cell_type": "code",
   "execution_count": null,
   "metadata": {},
   "outputs": [],
   "source": []
  }
 ],
 "metadata": {
  "kernelspec": {
   "display_name": "Python 3",
   "language": "python",
   "name": "python3"
  },
  "language_info": {
   "codemirror_mode": {
    "name": "ipython",
    "version": 3
   },
   "file_extension": ".py",
   "mimetype": "text/x-python",
   "name": "python",
   "nbconvert_exporter": "python",
   "pygments_lexer": "ipython3",
   "version": "3.7.3"
  }
 },
 "nbformat": 4,
 "nbformat_minor": 2
}
